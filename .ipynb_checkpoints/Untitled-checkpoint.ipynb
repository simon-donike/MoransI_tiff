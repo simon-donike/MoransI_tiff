{
 "cells": [
  {
   "cell_type": "code",
   "execution_count": null,
   "metadata": {},
   "outputs": [],
   "source": [
    "import pandas as pd\n",
    "import numpy as np\n",
    "import Image\n",
    "\n",
    "\n",
    "\n",
    "image_matrix = pd.read_csv(\"data/ImageMtrx.csv\",delimiter=\";\",index_col=\"index\")\n",
    "image_matrix_random =pd.read_csv(\"data/ImageMtrx_random.csv\",delimiter=\";\",index_col=\"index\")\n",
    "\n",
    "image_matrix_np = np.asarray(image_matrix)\n",
    "image_matrix_random_np = np.asarray(image_matrix_random)\n",
    "\n",
    "data = image_matrix_np\n",
    "im = Image.fromarray(data)\n",
    "im.save('test.tif')"
   ]
  }
 ],
 "metadata": {
  "kernelspec": {
   "display_name": "Python 3",
   "language": "python",
   "name": "python3"
  },
  "language_info": {
   "codemirror_mode": {
    "name": "ipython",
    "version": 3
   },
   "file_extension": ".py",
   "mimetype": "text/x-python",
   "name": "python",
   "nbconvert_exporter": "python",
   "pygments_lexer": "ipython3",
   "version": "3.7.6"
  }
 },
 "nbformat": 4,
 "nbformat_minor": 4
}
