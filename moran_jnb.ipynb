{
 "cells": [
  {
   "cell_type": "code",
   "execution_count": null,
   "metadata": {},
   "outputs": [],
   "source": [
    "#!/usr/bin/env python3\n",
    "# -*- coding: utf-8 -*-\n",
    "\"\"\"\n",
    "Created on Fri Jun  5 18:32:44 2020\n",
    "\n",
    "@author: simondonike\n",
    "\"\"\"\n",
    "\n",
    "import pysal\n",
    "from skimage.io import imread\n",
    "from libpysal.weights import lat2W\n",
    "import numpy as np\n",
    "import pandas as pd\n",
    "from esda.moran import Moran\n",
    "from skimage.color import rgb2gray\n",
    "from splot.esda import moran_scatterplot\n",
    "import matplotlib.pyplot as Mplt\n",
    "#import matplotlib.image as mamag\n",
    "\n",
    "# I started off with a tiff image, converted it to greyscale and\n",
    "# then proceeded to Moran I value without converting it into shapefile.\n",
    "# Because a shape file has a lot of info including tags lat, long. population and much more meant for geography\n",
    "\n",
    "rasterImage = imread(r'data/ImageMtrx.tiff')\n",
    "\n",
    "def rgb2gray(rgb):\n",
    "    return np.dot(rgb[...,:3], [0.2989, 0.5870, 0.1140])\n",
    "\n",
    "rasterImageGrey = rgb2gray(rasterImage)\n",
    "col,row = rasterImageGrey.shape[:2]\n",
    "df = pd.DataFrame(rasterImageGrey.flatten())\n",
    "WeightMatrix= lat2W(row,col)\n",
    "WeightMatrix = lat2W(rasterImageGrey.shape[0],rasterImageGrey.shape[1])\n",
    "MoranM= Moran(rasterImageGrey,WeightMatrix)\n",
    "fig, ax = moran_scatterplot(MoranM, aspect_equal=True)\n",
    "\n",
    "#print(\"Raster Dimension:{}\".format(rasterImageGrey.shape))\n",
    "print(\"Moran's I Value:%f\"%MoranM.I)\n",
    "Mplt.show()"
   ]
  }
 ],
 "metadata": {
  "kernelspec": {
   "display_name": "Python 3",
   "language": "python",
   "name": "python3"
  },
  "language_info": {
   "codemirror_mode": {
    "name": "ipython",
    "version": 3
   },
   "file_extension": ".py",
   "mimetype": "text/x-python",
   "name": "python",
   "nbconvert_exporter": "python",
   "pygments_lexer": "ipython3",
   "version": "3.7.7"
  }
 },
 "nbformat": 4,
 "nbformat_minor": 4
}
